{
 "cells": [
  {
   "cell_type": "markdown",
   "metadata": {},
   "source": [
    "# 07.1 无监督学习算法与K-Means快速聚类"
   ]
  },
  {
   "cell_type": "code",
   "execution_count": 1,
   "metadata": {},
   "outputs": [],
   "source": [
    "import numpy as np\n",
    "import pandas as pd\n",
    "\n",
    "import matplotlib as mpl\n",
    "import matplotlib.pyplot as plt\n",
    "\n",
    "from ML_basic_function import *"
   ]
  },
  {
   "cell_type": "markdown",
   "metadata": {},
   "source": [
    "### 1. Clustering algorithm and unsupervised learning"
   ]
  },
  {
   "cell_type": "markdown",
   "metadata": {},
   "source": [
    "- K-Means"
   ]
  },
  {
   "cell_type": "markdown",
   "metadata": {},
   "source": [
    "- Euclidean distance\n",
    "\n",
    "$$\n",
    "x_{cen} = \\frac{x_1+x_2+...+x_n}{n}\n",
    "$$\n",
    "\n",
    "$$\n",
    "y_{cen} = \\frac{y_1+y_2+...+y_n}{n}\n",
    "$$"
   ]
  },
  {
   "cell_type": "markdown",
   "metadata": {},
   "source": [
    "(1) Determine the center point. The first round is randomly generated. In other cases, it is calculated through the center of mass;\n",
    "\n",
    "(2) According to the center point, calculate the distance from each point to the center point;\n",
    "\n",
    "(3) Divide the data set according to the distance calculation results."
   ]
  },
  {
   "cell_type": "markdown",
   "metadata": {},
   "source": [
    "- K-Means iteration stop condition"
   ]
  },
  {
   "cell_type": "markdown",
   "metadata": {},
   "source": [
    "(1) The position of the center of mass does not change during two adjacent iterations;\n",
    "\n",
    "(2) The category of each point does not change during two adjacent iterations;"
   ]
  },
  {
   "cell_type": "markdown",
   "metadata": {},
   "source": [
    "within-group error\n",
    "$$\n",
    "\\sum^K_{i=1}\\sum_{x\\in C_i}(c_i-x)^2\n",
    "$$"
   ]
  },
  {
   "cell_type": "markdown",
   "metadata": {},
   "source": [
    "$$\n",
    "SSE = \\sum^K_{i=1}\\sum_{x\\in C_i}(c_i-x)^2\n",
    "$$"
   ]
  },
  {
   "cell_type": "code",
   "execution_count": 2,
   "metadata": {},
   "outputs": [
    {
     "name": "stdout",
     "output_type": "stream",
     "text": [
      "\u001b[1;31mInit signature:\u001b[0m\n",
      "\u001b[0mKMeans\u001b[0m\u001b[1;33m(\u001b[0m\u001b[1;33m\n",
      "\u001b[0m    \u001b[0mn_clusters\u001b[0m\u001b[1;33m=\u001b[0m\u001b[1;36m8\u001b[0m\u001b[1;33m,\u001b[0m\u001b[1;33m\n",
      "\u001b[0m    \u001b[1;33m*\u001b[0m\u001b[1;33m,\u001b[0m\u001b[1;33m\n",
      "\u001b[0m    \u001b[0minit\u001b[0m\u001b[1;33m=\u001b[0m\u001b[1;34m'k-means++'\u001b[0m\u001b[1;33m,\u001b[0m\u001b[1;33m\n",
      "\u001b[0m    \u001b[0mn_init\u001b[0m\u001b[1;33m=\u001b[0m\u001b[1;34m'warn'\u001b[0m\u001b[1;33m,\u001b[0m\u001b[1;33m\n",
      "\u001b[0m    \u001b[0mmax_iter\u001b[0m\u001b[1;33m=\u001b[0m\u001b[1;36m300\u001b[0m\u001b[1;33m,\u001b[0m\u001b[1;33m\n",
      "\u001b[0m    \u001b[0mtol\u001b[0m\u001b[1;33m=\u001b[0m\u001b[1;36m0.0001\u001b[0m\u001b[1;33m,\u001b[0m\u001b[1;33m\n",
      "\u001b[0m    \u001b[0mverbose\u001b[0m\u001b[1;33m=\u001b[0m\u001b[1;36m0\u001b[0m\u001b[1;33m,\u001b[0m\u001b[1;33m\n",
      "\u001b[0m    \u001b[0mrandom_state\u001b[0m\u001b[1;33m=\u001b[0m\u001b[1;32mNone\u001b[0m\u001b[1;33m,\u001b[0m\u001b[1;33m\n",
      "\u001b[0m    \u001b[0mcopy_x\u001b[0m\u001b[1;33m=\u001b[0m\u001b[1;32mTrue\u001b[0m\u001b[1;33m,\u001b[0m\u001b[1;33m\n",
      "\u001b[0m    \u001b[0malgorithm\u001b[0m\u001b[1;33m=\u001b[0m\u001b[1;34m'lloyd'\u001b[0m\u001b[1;33m,\u001b[0m\u001b[1;33m\n",
      "\u001b[0m\u001b[1;33m)\u001b[0m\u001b[1;33m\u001b[0m\u001b[1;33m\u001b[0m\u001b[0m\n",
      "\u001b[1;31mDocstring:\u001b[0m     \n",
      "K-Means clustering.\n",
      "\n",
      "Read more in the :ref:`User Guide <k_means>`.\n",
      "\n",
      "Parameters\n",
      "----------\n",
      "\n",
      "n_clusters : int, default=8\n",
      "    The number of clusters to form as well as the number of\n",
      "    centroids to generate.\n",
      "\n",
      "init : {'k-means++', 'random'}, callable or array-like of shape             (n_clusters, n_features), default='k-means++'\n",
      "    Method for initialization:\n",
      "\n",
      "    'k-means++' : selects initial cluster centroids using sampling based on\n",
      "    an empirical probability distribution of the points' contribution to the\n",
      "    overall inertia. This technique speeds up convergence. The algorithm\n",
      "    implemented is \"greedy k-means++\". It differs from the vanilla k-means++\n",
      "    by making several trials at each sampling step and choosing the best centroid\n",
      "    among them.\n",
      "\n",
      "    'random': choose `n_clusters` observations (rows) at random from data\n",
      "    for the initial centroids.\n",
      "\n",
      "    If an array is passed, it should be of shape (n_clusters, n_features)\n",
      "    and gives the initial centers.\n",
      "\n",
      "    If a callable is passed, it should take arguments X, n_clusters and a\n",
      "    random state and return an initialization.\n",
      "\n",
      "n_init : 'auto' or int, default=10\n",
      "    Number of times the k-means algorithm is run with different centroid\n",
      "    seeds. The final results is the best output of `n_init` consecutive runs\n",
      "    in terms of inertia. Several runs are recommended for sparse\n",
      "    high-dimensional problems (see :ref:`kmeans_sparse_high_dim`).\n",
      "\n",
      "    When `n_init='auto'`, the number of runs depends on the value of init:\n",
      "    10 if using `init='random'` or `init` is a callable;\n",
      "    1 if using `init='k-means++'` or `init` is an array-like.\n",
      "\n",
      "    .. versionadded:: 1.2\n",
      "       Added 'auto' option for `n_init`.\n",
      "\n",
      "    .. versionchanged:: 1.4\n",
      "       Default value for `n_init` will change from 10 to `'auto'` in version 1.4.\n",
      "\n",
      "max_iter : int, default=300\n",
      "    Maximum number of iterations of the k-means algorithm for a\n",
      "    single run.\n",
      "\n",
      "tol : float, default=1e-4\n",
      "    Relative tolerance with regards to Frobenius norm of the difference\n",
      "    in the cluster centers of two consecutive iterations to declare\n",
      "    convergence.\n",
      "\n",
      "verbose : int, default=0\n",
      "    Verbosity mode.\n",
      "\n",
      "random_state : int, RandomState instance or None, default=None\n",
      "    Determines random number generation for centroid initialization. Use\n",
      "    an int to make the randomness deterministic.\n",
      "    See :term:`Glossary <random_state>`.\n",
      "\n",
      "copy_x : bool, default=True\n",
      "    When pre-computing distances it is more numerically accurate to center\n",
      "    the data first. If copy_x is True (default), then the original data is\n",
      "    not modified. If False, the original data is modified, and put back\n",
      "    before the function returns, but small numerical differences may be\n",
      "    introduced by subtracting and then adding the data mean. Note that if\n",
      "    the original data is not C-contiguous, a copy will be made even if\n",
      "    copy_x is False. If the original data is sparse, but not in CSR format,\n",
      "    a copy will be made even if copy_x is False.\n",
      "\n",
      "algorithm : {\"lloyd\", \"elkan\", \"auto\", \"full\"}, default=\"lloyd\"\n",
      "    K-means algorithm to use. The classical EM-style algorithm is `\"lloyd\"`.\n",
      "    The `\"elkan\"` variation can be more efficient on some datasets with\n",
      "    well-defined clusters, by using the triangle inequality. However it's\n",
      "    more memory intensive due to the allocation of an extra array of shape\n",
      "    `(n_samples, n_clusters)`.\n",
      "\n",
      "    `\"auto\"` and `\"full\"` are deprecated and they will be removed in\n",
      "    Scikit-Learn 1.3. They are both aliases for `\"lloyd\"`.\n",
      "\n",
      "    .. versionchanged:: 0.18\n",
      "        Added Elkan algorithm\n",
      "\n",
      "    .. versionchanged:: 1.1\n",
      "        Renamed \"full\" to \"lloyd\", and deprecated \"auto\" and \"full\".\n",
      "        Changed \"auto\" to use \"lloyd\" instead of \"elkan\".\n",
      "\n",
      "Attributes\n",
      "----------\n",
      "cluster_centers_ : ndarray of shape (n_clusters, n_features)\n",
      "    Coordinates of cluster centers. If the algorithm stops before fully\n",
      "    converging (see ``tol`` and ``max_iter``), these will not be\n",
      "    consistent with ``labels_``.\n",
      "\n",
      "labels_ : ndarray of shape (n_samples,)\n",
      "    Labels of each point\n",
      "\n",
      "inertia_ : float\n",
      "    Sum of squared distances of samples to their closest cluster center,\n",
      "    weighted by the sample weights if provided.\n",
      "\n",
      "n_iter_ : int\n",
      "    Number of iterations run.\n",
      "\n",
      "n_features_in_ : int\n",
      "    Number of features seen during :term:`fit`.\n",
      "\n",
      "    .. versionadded:: 0.24\n",
      "\n",
      "feature_names_in_ : ndarray of shape (`n_features_in_`,)\n",
      "    Names of features seen during :term:`fit`. Defined only when `X`\n",
      "    has feature names that are all strings.\n",
      "\n",
      "    .. versionadded:: 1.0\n",
      "\n",
      "See Also\n",
      "--------\n",
      "MiniBatchKMeans : Alternative online implementation that does incremental\n",
      "    updates of the centers positions using mini-batches.\n",
      "    For large scale learning (say n_samples > 10k) MiniBatchKMeans is\n",
      "    probably much faster than the default batch implementation.\n",
      "\n",
      "Notes\n",
      "-----\n",
      "The k-means problem is solved using either Lloyd's or Elkan's algorithm.\n",
      "\n",
      "The average complexity is given by O(k n T), where n is the number of\n",
      "samples and T is the number of iteration.\n",
      "\n",
      "The worst case complexity is given by O(n^(k+2/p)) with\n",
      "n = n_samples, p = n_features.\n",
      "Refer to :doi:`\"How slow is the k-means method?\" D. Arthur and S. Vassilvitskii -\n",
      "SoCG2006.<10.1145/1137856.1137880>` for more details.\n",
      "\n",
      "In practice, the k-means algorithm is very fast (one of the fastest\n",
      "clustering algorithms available), but it falls in local minima. That's why\n",
      "it can be useful to restart it several times.\n",
      "\n",
      "If the algorithm stops before fully converging (because of ``tol`` or\n",
      "``max_iter``), ``labels_`` and ``cluster_centers_`` will not be consistent,\n",
      "i.e. the ``cluster_centers_`` will not be the means of the points in each\n",
      "cluster. Also, the estimator will reassign ``labels_`` after the last\n",
      "iteration to make ``labels_`` consistent with ``predict`` on the training\n",
      "set.\n",
      "\n",
      "Examples\n",
      "--------\n",
      "\n",
      ">>> from sklearn.cluster import KMeans\n",
      ">>> import numpy as np\n",
      ">>> X = np.array([[1, 2], [1, 4], [1, 0],\n",
      "...               [10, 2], [10, 4], [10, 0]])\n",
      ">>> kmeans = KMeans(n_clusters=2, random_state=0, n_init=\"auto\").fit(X)\n",
      ">>> kmeans.labels_\n",
      "array([1, 1, 1, 0, 0, 0], dtype=int32)\n",
      ">>> kmeans.predict([[0, 0], [12, 3]])\n",
      "array([1, 0], dtype=int32)\n",
      ">>> kmeans.cluster_centers_\n",
      "array([[10.,  2.],\n",
      "       [ 1.,  2.]])\n",
      "\u001b[1;31mFile:\u001b[0m           d:\\code\\lib\\site-packages\\sklearn\\cluster\\_kmeans.py\n",
      "\u001b[1;31mType:\u001b[0m           ABCMeta\n",
      "\u001b[1;31mSubclasses:\u001b[0m     "
     ]
    }
   ],
   "source": [
    "from sklearn.cluster import KMeans\n",
    "KMeans?"
   ]
  },
  {
   "cell_type": "markdown",
   "metadata": {},
   "source": [
    "|Name|Description|      \n",
    "|:--:|:--:|      \n",
    "|n_clusters|聚类类别总数|      \n",
    "|init|初始中心点创建方法|\n",
    "|n_init|初始化几次中心点|\n",
    "|max_iter|最大迭代次数|\t\n",
    "|tol|收敛条件|\t\n",
    "|precompute_distances|是否提前预计算距离|\t\n",
    "|algorithm|优化距离计算的方法选取|\t"
   ]
  },
  {
   "cell_type": "markdown",
   "metadata": {},
   "source": [
    "> [“k-means++: The advantages of careful seeding” ](http://ilpubs.stanford.edu:8090/778/1/2006-13.pdf)\n",
    "\n",
    "> Keep the model stable during subsequent iterations"
   ]
  },
  {
   "cell_type": "code",
   "execution_count": 3,
   "metadata": {},
   "outputs": [
    {
     "name": "stderr",
     "output_type": "stream",
     "text": [
      "d:\\CODE\\Lib\\site-packages\\sklearn\\cluster\\_kmeans.py:1412: FutureWarning: The default value of `n_init` will change from 10 to 'auto' in 1.4. Set the value of `n_init` explicitly to suppress the warning\n",
      "  super()._check_params_vs_input(X, default_n_init=10)\n",
      "d:\\CODE\\Lib\\site-packages\\sklearn\\cluster\\_kmeans.py:1436: UserWarning: KMeans is known to have a memory leak on Windows with MKL, when there are less chunks than available threads. You can avoid it by setting the environment variable OMP_NUM_THREADS=1.\n",
      "  warnings.warn(\n"
     ]
    },
    {
     "data": {
      "text/html": [
       "<style>#sk-container-id-1 {color: black;}#sk-container-id-1 pre{padding: 0;}#sk-container-id-1 div.sk-toggleable {background-color: white;}#sk-container-id-1 label.sk-toggleable__label {cursor: pointer;display: block;width: 100%;margin-bottom: 0;padding: 0.3em;box-sizing: border-box;text-align: center;}#sk-container-id-1 label.sk-toggleable__label-arrow:before {content: \"▸\";float: left;margin-right: 0.25em;color: #696969;}#sk-container-id-1 label.sk-toggleable__label-arrow:hover:before {color: black;}#sk-container-id-1 div.sk-estimator:hover label.sk-toggleable__label-arrow:before {color: black;}#sk-container-id-1 div.sk-toggleable__content {max-height: 0;max-width: 0;overflow: hidden;text-align: left;background-color: #f0f8ff;}#sk-container-id-1 div.sk-toggleable__content pre {margin: 0.2em;color: black;border-radius: 0.25em;background-color: #f0f8ff;}#sk-container-id-1 input.sk-toggleable__control:checked~div.sk-toggleable__content {max-height: 200px;max-width: 100%;overflow: auto;}#sk-container-id-1 input.sk-toggleable__control:checked~label.sk-toggleable__label-arrow:before {content: \"▾\";}#sk-container-id-1 div.sk-estimator input.sk-toggleable__control:checked~label.sk-toggleable__label {background-color: #d4ebff;}#sk-container-id-1 div.sk-label input.sk-toggleable__control:checked~label.sk-toggleable__label {background-color: #d4ebff;}#sk-container-id-1 input.sk-hidden--visually {border: 0;clip: rect(1px 1px 1px 1px);clip: rect(1px, 1px, 1px, 1px);height: 1px;margin: -1px;overflow: hidden;padding: 0;position: absolute;width: 1px;}#sk-container-id-1 div.sk-estimator {font-family: monospace;background-color: #f0f8ff;border: 1px dotted black;border-radius: 0.25em;box-sizing: border-box;margin-bottom: 0.5em;}#sk-container-id-1 div.sk-estimator:hover {background-color: #d4ebff;}#sk-container-id-1 div.sk-parallel-item::after {content: \"\";width: 100%;border-bottom: 1px solid gray;flex-grow: 1;}#sk-container-id-1 div.sk-label:hover label.sk-toggleable__label {background-color: #d4ebff;}#sk-container-id-1 div.sk-serial::before {content: \"\";position: absolute;border-left: 1px solid gray;box-sizing: border-box;top: 0;bottom: 0;left: 50%;z-index: 0;}#sk-container-id-1 div.sk-serial {display: flex;flex-direction: column;align-items: center;background-color: white;padding-right: 0.2em;padding-left: 0.2em;position: relative;}#sk-container-id-1 div.sk-item {position: relative;z-index: 1;}#sk-container-id-1 div.sk-parallel {display: flex;align-items: stretch;justify-content: center;background-color: white;position: relative;}#sk-container-id-1 div.sk-item::before, #sk-container-id-1 div.sk-parallel-item::before {content: \"\";position: absolute;border-left: 1px solid gray;box-sizing: border-box;top: 0;bottom: 0;left: 50%;z-index: -1;}#sk-container-id-1 div.sk-parallel-item {display: flex;flex-direction: column;z-index: 1;position: relative;background-color: white;}#sk-container-id-1 div.sk-parallel-item:first-child::after {align-self: flex-end;width: 50%;}#sk-container-id-1 div.sk-parallel-item:last-child::after {align-self: flex-start;width: 50%;}#sk-container-id-1 div.sk-parallel-item:only-child::after {width: 0;}#sk-container-id-1 div.sk-dashed-wrapped {border: 1px dashed gray;margin: 0 0.4em 0.5em 0.4em;box-sizing: border-box;padding-bottom: 0.4em;background-color: white;}#sk-container-id-1 div.sk-label label {font-family: monospace;font-weight: bold;display: inline-block;line-height: 1.2em;}#sk-container-id-1 div.sk-label-container {text-align: center;}#sk-container-id-1 div.sk-container {/* jupyter's `normalize.less` sets `[hidden] { display: none; }` but bootstrap.min.css set `[hidden] { display: none !important; }` so we also need the `!important` here to be able to override the default hidden behavior on the sphinx rendered scikit-learn.org. See: https://github.com/scikit-learn/scikit-learn/issues/21755 */display: inline-block !important;position: relative;}#sk-container-id-1 div.sk-text-repr-fallback {display: none;}</style><div id=\"sk-container-id-1\" class=\"sk-top-container\"><div class=\"sk-text-repr-fallback\"><pre>KMeans(n_clusters=2)</pre><b>In a Jupyter environment, please rerun this cell to show the HTML representation or trust the notebook. <br />On GitHub, the HTML representation is unable to render, please try loading this page with nbviewer.org.</b></div><div class=\"sk-container\" hidden><div class=\"sk-item\"><div class=\"sk-estimator sk-toggleable\"><input class=\"sk-toggleable__control sk-hidden--visually\" id=\"sk-estimator-id-1\" type=\"checkbox\" checked><label for=\"sk-estimator-id-1\" class=\"sk-toggleable__label sk-toggleable__label-arrow\">KMeans</label><div class=\"sk-toggleable__content\"><pre>KMeans(n_clusters=2)</pre></div></div></div></div></div>"
      ],
      "text/plain": [
       "KMeans(n_clusters=2)"
      ]
     },
     "execution_count": 3,
     "metadata": {},
     "output_type": "execute_result"
    }
   ],
   "source": [
    "np.random.seed(21)\n",
    "X, y = arrayGenCla(num_examples = 20, num_inputs = 2, num_class = 2, deg_dispersion = [2, 0.5])\n",
    "\n",
    "km = KMeans(n_clusters=2)\n",
    "km.fit(X)"
   ]
  },
  {
   "cell_type": "code",
   "execution_count": 4,
   "metadata": {},
   "outputs": [
    {
     "data": {
      "text/plain": [
       "array([[-0.96935007, -1.05271715],\n",
       "       [ 1.03337769,  1.23489509]])"
      ]
     },
     "execution_count": 4,
     "metadata": {},
     "output_type": "execute_result"
    }
   ],
   "source": [
    "km.cluster_centers_"
   ]
  },
  {
   "cell_type": "code",
   "execution_count": 5,
   "metadata": {},
   "outputs": [
    {
     "data": {
      "text/plain": [
       "array([0, 0, 0, 0, 0, 0, 0, 0, 0, 0, 0, 0, 0, 0, 0, 0, 0, 0, 0, 0, 1, 1,\n",
       "       1, 1, 1, 1, 1, 1, 1, 1, 1, 1, 1, 1, 1, 1, 1, 1, 1, 1])"
      ]
     },
     "execution_count": 5,
     "metadata": {},
     "output_type": "execute_result"
    }
   ],
   "source": [
    "km.labels_"
   ]
  },
  {
   "cell_type": "code",
   "execution_count": 6,
   "metadata": {},
   "outputs": [
    {
     "data": {
      "text/plain": [
       "[<matplotlib.lines.Line2D at 0x2b801641310>]"
      ]
     },
     "execution_count": 6,
     "metadata": {},
     "output_type": "execute_result"
    },
    {
     "data": {
      "image/png": "[encoded data removed]",
      "text/plain": [
       "<Figure size 640x480 with 1 Axes>"
      ]
     },
     "metadata": {},
     "output_type": "display_data"
    }
   ],
   "source": [
    "plt.scatter(X[:, 0], X[:, 1], c=km.labels_)\n",
    "plt.plot(km.cluster_centers_[0, 0], km.cluster_centers_[0, 1], 'o', c='red')\n",
    "plt.plot(km.cluster_centers_[1, 0], km.cluster_centers_[1, 1], 'o', c='cyan')"
   ]
  },
  {
   "cell_type": "code",
   "execution_count": 7,
   "metadata": {},
   "outputs": [
    {
     "data": {
      "text/plain": [
       "18.959608559900648"
      ]
     },
     "execution_count": 7,
     "metadata": {},
     "output_type": "execute_result"
    }
   ],
   "source": [
    "km.inertia_"
   ]
  },
  {
   "cell_type": "code",
   "execution_count": 8,
   "metadata": {},
   "outputs": [
    {
     "data": {
      "text/plain": [
       "2"
      ]
     },
     "execution_count": 8,
     "metadata": {},
     "output_type": "execute_result"
    }
   ],
   "source": [
    "km.n_iter_"
   ]
  },
  {
   "cell_type": "code",
   "execution_count": 9,
   "metadata": {},
   "outputs": [
    {
     "data": {
      "text/plain": [
       "array([[ 0.94589607, -0.75058415],\n",
       "       [-0.79426004,  0.50839833]])"
      ]
     },
     "execution_count": 9,
     "metadata": {},
     "output_type": "execute_result"
    }
   ],
   "source": [
    "X_new = np.random.randn(2, 2)\n",
    "X_new"
   ]
  },
  {
   "cell_type": "code",
   "execution_count": 10,
   "metadata": {},
   "outputs": [
    {
     "data": {
      "text/plain": [
       "array([0, 0])"
      ]
     },
     "execution_count": 10,
     "metadata": {},
     "output_type": "execute_result"
    }
   ],
   "source": [
    "km.predict(X_new)"
   ]
  },
  {
   "cell_type": "markdown",
   "metadata": {},
   "source": [
    "- silhouette coefficient"
   ]
  },
  {
   "cell_type": "markdown",
   "metadata": {},
   "source": [
    "&emsp;&emsp;轮廓系数的计算过程如下：         \n",
    "&emsp;&emsp;(1).对于第i条数据（以下简称i），计算该对象到所属簇的平均距离，记为$a_i$；        \n",
    "&emsp;&emsp;(2).如果还存在其他簇（不包含第i个对象的簇，如A、B两个簇），分不同的簇，计算该对象到这些簇的所有点的平均距离（例如计算i到A簇中所有点的平均距离，以及计算i到B簇中所有点的平均距离），并在这些距离中找到最小值记为$b_i$；        \n",
    "&emsp;&emsp;(3).则对于i，轮廓系数计算结果为：$s_i=\\frac{b_i-a_i}{max(a_i, b_i)}$；        \n",
    "&emsp;&emsp;(4).而对于聚类中的所有N条数据，最终轮廓系数为单个$s_i$的均值，即$s=mean(s_i)$"
   ]
  },
  {
   "cell_type": "code",
   "execution_count": 11,
   "metadata": {},
   "outputs": [],
   "source": [
    "from sklearn.metrics import silhouette_score"
   ]
  },
  {
   "cell_type": "code",
   "execution_count": 12,
   "metadata": {},
   "outputs": [
    {
     "data": {
      "text/plain": [
       "0.7035890353176562"
      ]
     },
     "execution_count": 12,
     "metadata": {},
     "output_type": "execute_result"
    }
   ],
   "source": [
    "silhouette_score(X, km.labels_)"
   ]
  },
  {
   "cell_type": "code",
   "execution_count": 13,
   "metadata": {},
   "outputs": [
    {
     "data": {
      "text/plain": [
       "<matplotlib.collections.PathCollection at 0x2b807b0ae90>"
      ]
     },
     "execution_count": 13,
     "metadata": {},
     "output_type": "execute_result"
    },
    {
     "data": {
      "image/png": "[encoded data removed]",
      "text/plain": [
       "<Figure size 640x480 with 1 Axes>"
      ]
     },
     "metadata": {},
     "output_type": "display_data"
    }
   ],
   "source": [
    "np.random.seed(23)\n",
    "X, y = arrayGenCla(num_examples = 50, num_inputs = 2, num_class = 3, deg_dispersion = [2, 0.5])\n",
    "plt.scatter(X[:, 0], X[:, 1], c=y)"
   ]
  },
  {
   "cell_type": "code",
   "execution_count": 14,
   "metadata": {},
   "outputs": [
    {
     "name": "stderr",
     "output_type": "stream",
     "text": [
      "d:\\CODE\\Lib\\site-packages\\sklearn\\cluster\\_kmeans.py:1412: FutureWarning: The default value of `n_init` will change from 10 to 'auto' in 1.4. Set the value of `n_init` explicitly to suppress the warning\n",
      "  super()._check_params_vs_input(X, default_n_init=10)\n",
      "d:\\CODE\\Lib\\site-packages\\sklearn\\cluster\\_kmeans.py:1436: UserWarning: KMeans is known to have a memory leak on Windows with MKL, when there are less chunks than available threads. You can avoid it by setting the environment variable OMP_NUM_THREADS=1.\n",
      "  warnings.warn(\n",
      "d:\\CODE\\Lib\\site-packages\\sklearn\\cluster\\_kmeans.py:1412: FutureWarning: The default value of `n_init` will change from 10 to 'auto' in 1.4. Set the value of `n_init` explicitly to suppress the warning\n",
      "  super()._check_params_vs_input(X, default_n_init=10)\n",
      "d:\\CODE\\Lib\\site-packages\\sklearn\\cluster\\_kmeans.py:1436: UserWarning: KMeans is known to have a memory leak on Windows with MKL, when there are less chunks than available threads. You can avoid it by setting the environment variable OMP_NUM_THREADS=1.\n",
      "  warnings.warn(\n",
      "d:\\CODE\\Lib\\site-packages\\sklearn\\cluster\\_kmeans.py:1412: FutureWarning: The default value of `n_init` will change from 10 to 'auto' in 1.4. Set the value of `n_init` explicitly to suppress the warning\n",
      "  super()._check_params_vs_input(X, default_n_init=10)\n",
      "d:\\CODE\\Lib\\site-packages\\sklearn\\cluster\\_kmeans.py:1436: UserWarning: KMeans is known to have a memory leak on Windows with MKL, when there are less chunks than available threads. You can avoid it by setting the environment variable OMP_NUM_THREADS=1.\n",
      "  warnings.warn(\n",
      "d:\\CODE\\Lib\\site-packages\\sklearn\\cluster\\_kmeans.py:1412: FutureWarning: The default value of `n_init` will change from 10 to 'auto' in 1.4. Set the value of `n_init` explicitly to suppress the warning\n",
      "  super()._check_params_vs_input(X, default_n_init=10)\n",
      "d:\\CODE\\Lib\\site-packages\\sklearn\\cluster\\_kmeans.py:1436: UserWarning: KMeans is known to have a memory leak on Windows with MKL, when there are less chunks than available threads. You can avoid it by setting the environment variable OMP_NUM_THREADS=1.\n",
      "  warnings.warn(\n",
      "d:\\CODE\\Lib\\site-packages\\sklearn\\cluster\\_kmeans.py:1412: FutureWarning: The default value of `n_init` will change from 10 to 'auto' in 1.4. Set the value of `n_init` explicitly to suppress the warning\n",
      "  super()._check_params_vs_input(X, default_n_init=10)\n",
      "d:\\CODE\\Lib\\site-packages\\sklearn\\cluster\\_kmeans.py:1436: UserWarning: KMeans is known to have a memory leak on Windows with MKL, when there are less chunks than available threads. You can avoid it by setting the environment variable OMP_NUM_THREADS=1.\n",
      "  warnings.warn(\n",
      "d:\\CODE\\Lib\\site-packages\\sklearn\\cluster\\_kmeans.py:1412: FutureWarning: The default value of `n_init` will change from 10 to 'auto' in 1.4. Set the value of `n_init` explicitly to suppress the warning\n",
      "  super()._check_params_vs_input(X, default_n_init=10)\n",
      "d:\\CODE\\Lib\\site-packages\\sklearn\\cluster\\_kmeans.py:1436: UserWarning: KMeans is known to have a memory leak on Windows with MKL, when there are less chunks than available threads. You can avoid it by setting the environment variable OMP_NUM_THREADS=1.\n",
      "  warnings.warn(\n",
      "d:\\CODE\\Lib\\site-packages\\sklearn\\cluster\\_kmeans.py:1412: FutureWarning: The default value of `n_init` will change from 10 to 'auto' in 1.4. Set the value of `n_init` explicitly to suppress the warning\n",
      "  super()._check_params_vs_input(X, default_n_init=10)\n",
      "d:\\CODE\\Lib\\site-packages\\sklearn\\cluster\\_kmeans.py:1436: UserWarning: KMeans is known to have a memory leak on Windows with MKL, when there are less chunks than available threads. You can avoid it by setting the environment variable OMP_NUM_THREADS=1.\n",
      "  warnings.warn(\n",
      "d:\\CODE\\Lib\\site-packages\\sklearn\\cluster\\_kmeans.py:1412: FutureWarning: The default value of `n_init` will change from 10 to 'auto' in 1.4. Set the value of `n_init` explicitly to suppress the warning\n",
      "  super()._check_params_vs_input(X, default_n_init=10)\n",
      "d:\\CODE\\Lib\\site-packages\\sklearn\\cluster\\_kmeans.py:1436: UserWarning: KMeans is known to have a memory leak on Windows with MKL, when there are less chunks than available threads. You can avoid it by setting the environment variable OMP_NUM_THREADS=1.\n",
      "  warnings.warn(\n",
      "d:\\CODE\\Lib\\site-packages\\sklearn\\cluster\\_kmeans.py:1412: FutureWarning: The default value of `n_init` will change from 10 to 'auto' in 1.4. Set the value of `n_init` explicitly to suppress the warning\n",
      "  super()._check_params_vs_input(X, default_n_init=10)\n",
      "d:\\CODE\\Lib\\site-packages\\sklearn\\cluster\\_kmeans.py:1436: UserWarning: KMeans is known to have a memory leak on Windows with MKL, when there are less chunks than available threads. You can avoid it by setting the environment variable OMP_NUM_THREADS=1.\n",
      "  warnings.warn(\n",
      "d:\\CODE\\Lib\\site-packages\\sklearn\\cluster\\_kmeans.py:1412: FutureWarning: The default value of `n_init` will change from 10 to 'auto' in 1.4. Set the value of `n_init` explicitly to suppress the warning\n",
      "  super()._check_params_vs_input(X, default_n_init=10)\n",
      "d:\\CODE\\Lib\\site-packages\\sklearn\\cluster\\_kmeans.py:1436: UserWarning: KMeans is known to have a memory leak on Windows with MKL, when there are less chunks than available threads. You can avoid it by setting the environment variable OMP_NUM_THREADS=1.\n",
      "  warnings.warn(\n"
     ]
    },
    {
     "data": {
      "text/plain": [
       "[0.5917969390803755,\n",
       " 0.6753180189915984,\n",
       " 0.5591989523669606,\n",
       " 0.47736852110463057,\n",
       " 0.37196744241513746,\n",
       " 0.3673103673887976,\n",
       " 0.3712542738892984,\n",
       " 0.363515043009815,\n",
       " 0.354678420203957,\n",
       " 0.3729096676766345]"
      ]
     },
     "execution_count": 14,
     "metadata": {},
     "output_type": "execute_result"
    }
   ],
   "source": [
    "ss = []\n",
    "\n",
    "for i in range(2, 12):\n",
    "    km = KMeans(n_clusters=i).fit(X)\n",
    "    ss.append(silhouette_score(X, km.labels_))\n",
    "\n",
    "ss"
   ]
  },
  {
   "cell_type": "code",
   "execution_count": null,
   "metadata": {},
   "outputs": [],
   "source": []
  }
 ],
 "metadata": {
  "kernelspec": {
   "display_name": "base",
   "language": "python",
   "name": "python3"
  },
  "language_info": {
   "codemirror_mode": {
    "name": "ipython",
    "version": 3
   },
   "file_extension": ".py",
   "mimetype": "text/x-python",
   "name": "python",
   "nbconvert_exporter": "python",
   "pygments_lexer": "ipython3",
   "version": "3.11.5"
  }
 },
 "nbformat": 4,
 "nbformat_minor": 2
}
